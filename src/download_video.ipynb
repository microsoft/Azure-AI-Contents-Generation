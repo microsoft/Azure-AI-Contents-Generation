{
 "cells": [
  {
   "cell_type": "code",
   "execution_count": 3,
   "metadata": {},
   "outputs": [
    {
     "name": "stdout",
     "output_type": "stream",
     "text": [
      "Requirement already satisfied: pytube in c:\\users\\hishida\\repo\\ai-contents-generation\\.venv\\lib\\site-packages (15.0.0)\n",
      "Collecting pytubefix\n",
      "  Downloading pytubefix-6.8.1-py3-none-any.whl.metadata (4.6 kB)\n",
      "Downloading pytubefix-6.8.1-py3-none-any.whl (73 kB)\n",
      "Installing collected packages: pytubefix\n",
      "Successfully installed pytubefix-6.8.1\n"
     ]
    }
   ],
   "source": [
    "! pip install pytube\n",
    "! pip install pytubefix"
   ]
  },
  {
   "cell_type": "code",
   "execution_count": 2,
   "metadata": {},
   "outputs": [
    {
     "name": "stdout",
     "output_type": "stream",
     "text": [
      "HD-2D版『ドラゴンクエストIII　そして伝説へ…』発売日発表トレーラー\n",
      " ↳ |████████████████████████████████████████████| 100.0%\r"
     ]
    },
    {
     "data": {
      "text/plain": [
       "'c:\\\\Users\\\\hishida\\\\repo\\\\ai-contents-generation\\\\data\\\\01_scenario\\\\video\\\\dq3_intro.mp4'"
      ]
     },
     "execution_count": 2,
     "metadata": {},
     "output_type": "execute_result"
    }
   ],
   "source": [
    "from pytubefix import YouTube\n",
    "from pytubefix.cli import on_progress\n",
    " \n",
    "url = \"https://www.youtube.com/watch?v=PDHvMiX_vwk\"\n",
    " \n",
    "yt = YouTube(url, on_progress_callback = on_progress)\n",
    "print(yt.title)\n",
    " \n",
    "ys = yt.streams.get_highest_resolution()\n",
    "ys.download(output_path='../data/01_scenario/video', filename='dq3_intro.mp4')"
   ]
  },
  {
   "cell_type": "code",
   "execution_count": null,
   "metadata": {},
   "outputs": [],
   "source": []
  }
 ],
 "metadata": {
  "kernelspec": {
   "display_name": ".venv",
   "language": "python",
   "name": "python3"
  },
  "language_info": {
   "codemirror_mode": {
    "name": "ipython",
    "version": 3
   },
   "file_extension": ".py",
   "mimetype": "text/x-python",
   "name": "python",
   "nbconvert_exporter": "python",
   "pygments_lexer": "ipython3",
   "version": "3.12.3"
  }
 },
 "nbformat": 4,
 "nbformat_minor": 2
}
